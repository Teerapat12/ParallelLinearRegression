{
 "cells": [
  {
   "cell_type": "markdown",
   "metadata": {},
   "source": [
    "# Linear Regression Report"
   ]
  },
  {
   "cell_type": "markdown",
   "metadata": {},
   "source": [
    "The purpose of this project is to demonstrate how we can use parallel processing to combine with machine learning so make the computation run faster. "
   ]
  },
  {
   "cell_type": "markdown",
   "metadata": {},
   "source": [
    "<ul>\n",
    "<li>Introduction</li>\n",
    "<li>Procedure</li>\n",
    "<li>Result</li>\n",
    "<li>Conclusion</li>\n",
    "</ul>"
   ]
  },
  {
   "cell_type": "markdown",
   "metadata": {},
   "source": [
    "<h3>Introduction</h3>"
   ]
  },
  {
   "cell_type": "markdown",
   "metadata": {},
   "source": [
    "In statistics, linear regression is an approach for modeling the relationship between a scalar dependent variable y and one or more explanatory variables (or independent variables) denoted X.The relationships are modeled using linear predictor functions whose unknown model parameters are estimated from the data. Such models are called linear models. "
   ]
  },
  {
   "cell_type": "markdown",
   "metadata": {},
   "source": [
    "<img src=\"https://i.ytimg.com/vi/zPG4NjIkCjc/maxresdefault.jpg\" height=\"650\" width=\"650\"/>"
   ]
  },
  {
   "cell_type": "markdown",
   "metadata": {},
   "source": [
    "When training the data, if data size of data is very large, training might take very long time. Imagine having to train PetaBye size of files. In this project, I will try to use parallel processing technique to help speeding up the time need to train a model. "
   ]
  },
  {
   "cell_type": "markdown",
   "metadata": {},
   "source": [
    "<h4>Data</h4>"
   ]
  },
  {
   "cell_type": "markdown",
   "metadata": {},
   "source": [
    "The dataset come from https://www.kaggle.com/c/house-prices-advanced-regression-techniques. The data contain a lot of features. In this experiment, I already extract features that has high colleration with the output which is \"SalePrice\". The goal is to predict the price of a house given house properties by using Linear Regression. "
   ]
  },
  {
   "cell_type": "code",
   "execution_count": 2,
   "metadata": {
    "collapsed": false
   },
   "outputs": [
    {
     "data": {
      "text/html": [
       "<div>\n",
       "<table border=\"1\" class=\"dataframe\">\n",
       "  <thead>\n",
       "    <tr style=\"text-align: right;\">\n",
       "      <th></th>\n",
       "      <th>Id</th>\n",
       "      <th>MSSubClass</th>\n",
       "      <th>MSZoning</th>\n",
       "      <th>LotFrontage</th>\n",
       "      <th>LotArea</th>\n",
       "      <th>Street</th>\n",
       "      <th>Alley</th>\n",
       "      <th>LotShape</th>\n",
       "      <th>LandContour</th>\n",
       "      <th>Utilities</th>\n",
       "      <th>...</th>\n",
       "      <th>PoolArea</th>\n",
       "      <th>PoolQC</th>\n",
       "      <th>Fence</th>\n",
       "      <th>MiscFeature</th>\n",
       "      <th>MiscVal</th>\n",
       "      <th>MoSold</th>\n",
       "      <th>YrSold</th>\n",
       "      <th>SaleType</th>\n",
       "      <th>SaleCondition</th>\n",
       "      <th>SalePrice</th>\n",
       "    </tr>\n",
       "  </thead>\n",
       "  <tbody>\n",
       "    <tr>\n",
       "      <th>0</th>\n",
       "      <td>1</td>\n",
       "      <td>60</td>\n",
       "      <td>RL</td>\n",
       "      <td>65.0</td>\n",
       "      <td>8450</td>\n",
       "      <td>Pave</td>\n",
       "      <td>NaN</td>\n",
       "      <td>Reg</td>\n",
       "      <td>Lvl</td>\n",
       "      <td>AllPub</td>\n",
       "      <td>...</td>\n",
       "      <td>0</td>\n",
       "      <td>NaN</td>\n",
       "      <td>NaN</td>\n",
       "      <td>NaN</td>\n",
       "      <td>0</td>\n",
       "      <td>2</td>\n",
       "      <td>2008</td>\n",
       "      <td>WD</td>\n",
       "      <td>Normal</td>\n",
       "      <td>208500</td>\n",
       "    </tr>\n",
       "    <tr>\n",
       "      <th>1</th>\n",
       "      <td>2</td>\n",
       "      <td>20</td>\n",
       "      <td>RL</td>\n",
       "      <td>80.0</td>\n",
       "      <td>9600</td>\n",
       "      <td>Pave</td>\n",
       "      <td>NaN</td>\n",
       "      <td>Reg</td>\n",
       "      <td>Lvl</td>\n",
       "      <td>AllPub</td>\n",
       "      <td>...</td>\n",
       "      <td>0</td>\n",
       "      <td>NaN</td>\n",
       "      <td>NaN</td>\n",
       "      <td>NaN</td>\n",
       "      <td>0</td>\n",
       "      <td>5</td>\n",
       "      <td>2007</td>\n",
       "      <td>WD</td>\n",
       "      <td>Normal</td>\n",
       "      <td>181500</td>\n",
       "    </tr>\n",
       "    <tr>\n",
       "      <th>2</th>\n",
       "      <td>3</td>\n",
       "      <td>60</td>\n",
       "      <td>RL</td>\n",
       "      <td>68.0</td>\n",
       "      <td>11250</td>\n",
       "      <td>Pave</td>\n",
       "      <td>NaN</td>\n",
       "      <td>IR1</td>\n",
       "      <td>Lvl</td>\n",
       "      <td>AllPub</td>\n",
       "      <td>...</td>\n",
       "      <td>0</td>\n",
       "      <td>NaN</td>\n",
       "      <td>NaN</td>\n",
       "      <td>NaN</td>\n",
       "      <td>0</td>\n",
       "      <td>9</td>\n",
       "      <td>2008</td>\n",
       "      <td>WD</td>\n",
       "      <td>Normal</td>\n",
       "      <td>223500</td>\n",
       "    </tr>\n",
       "    <tr>\n",
       "      <th>3</th>\n",
       "      <td>4</td>\n",
       "      <td>70</td>\n",
       "      <td>RL</td>\n",
       "      <td>60.0</td>\n",
       "      <td>9550</td>\n",
       "      <td>Pave</td>\n",
       "      <td>NaN</td>\n",
       "      <td>IR1</td>\n",
       "      <td>Lvl</td>\n",
       "      <td>AllPub</td>\n",
       "      <td>...</td>\n",
       "      <td>0</td>\n",
       "      <td>NaN</td>\n",
       "      <td>NaN</td>\n",
       "      <td>NaN</td>\n",
       "      <td>0</td>\n",
       "      <td>2</td>\n",
       "      <td>2006</td>\n",
       "      <td>WD</td>\n",
       "      <td>Abnorml</td>\n",
       "      <td>140000</td>\n",
       "    </tr>\n",
       "    <tr>\n",
       "      <th>4</th>\n",
       "      <td>5</td>\n",
       "      <td>60</td>\n",
       "      <td>RL</td>\n",
       "      <td>84.0</td>\n",
       "      <td>14260</td>\n",
       "      <td>Pave</td>\n",
       "      <td>NaN</td>\n",
       "      <td>IR1</td>\n",
       "      <td>Lvl</td>\n",
       "      <td>AllPub</td>\n",
       "      <td>...</td>\n",
       "      <td>0</td>\n",
       "      <td>NaN</td>\n",
       "      <td>NaN</td>\n",
       "      <td>NaN</td>\n",
       "      <td>0</td>\n",
       "      <td>12</td>\n",
       "      <td>2008</td>\n",
       "      <td>WD</td>\n",
       "      <td>Normal</td>\n",
       "      <td>250000</td>\n",
       "    </tr>\n",
       "  </tbody>\n",
       "</table>\n",
       "<p>5 rows × 81 columns</p>\n",
       "</div>"
      ],
      "text/plain": [
       "   Id  MSSubClass MSZoning  LotFrontage  LotArea Street Alley LotShape  \\\n",
       "0   1          60       RL         65.0     8450   Pave   NaN      Reg   \n",
       "1   2          20       RL         80.0     9600   Pave   NaN      Reg   \n",
       "2   3          60       RL         68.0    11250   Pave   NaN      IR1   \n",
       "3   4          70       RL         60.0     9550   Pave   NaN      IR1   \n",
       "4   5          60       RL         84.0    14260   Pave   NaN      IR1   \n",
       "\n",
       "  LandContour Utilities    ...     PoolArea PoolQC Fence MiscFeature MiscVal  \\\n",
       "0         Lvl    AllPub    ...            0    NaN   NaN         NaN       0   \n",
       "1         Lvl    AllPub    ...            0    NaN   NaN         NaN       0   \n",
       "2         Lvl    AllPub    ...            0    NaN   NaN         NaN       0   \n",
       "3         Lvl    AllPub    ...            0    NaN   NaN         NaN       0   \n",
       "4         Lvl    AllPub    ...            0    NaN   NaN         NaN       0   \n",
       "\n",
       "  MoSold YrSold  SaleType  SaleCondition  SalePrice  \n",
       "0      2   2008        WD         Normal     208500  \n",
       "1      5   2007        WD         Normal     181500  \n",
       "2      9   2008        WD         Normal     223500  \n",
       "3      2   2006        WD        Abnorml     140000  \n",
       "4     12   2008        WD         Normal     250000  \n",
       "\n",
       "[5 rows x 81 columns]"
      ]
     },
     "execution_count": 2,
     "metadata": {},
     "output_type": "execute_result"
    }
   ],
   "source": [
    "import pandas as pd\n",
    "dataset = pd.read_csv('train.csv')\n",
    "dataset.head(5)"
   ]
  },
  {
   "cell_type": "markdown",
   "metadata": {},
   "source": [
    "<h2>Procedure</h2>"
   ]
  },
  {
   "cell_type": "markdown",
   "metadata": {},
   "source": [
    "There are some procedure in fitting a line to a dataset. The steps are as follow :\n",
    "<ul>\n",
    "<li>Preprocessing (Clean data)</li>\n",
    "<li>Load Data into Memory to process</li>\n",
    "<li>Finding Optimal Weight (Normal Equation)</li>\n",
    "<li>Evaluation using validate set</li>\n",
    "</ul>\n"
   ]
  },
  {
   "cell_type": "markdown",
   "metadata": {},
   "source": [
    "<h3>Preprocessing</h3>\n",
    "Here we need to clean the data. Cleaning data can range from dealing the noise to feature scaling. This will be done before loading the data into Java file. The remaining features are shown below."
   ]
  },
  {
   "cell_type": "code",
   "execution_count": 9,
   "metadata": {
    "collapsed": false
   },
   "outputs": [
    {
     "data": {
      "text/html": [
       "<div>\n",
       "<table border=\"1\" class=\"dataframe\">\n",
       "  <thead>\n",
       "    <tr style=\"text-align: right;\">\n",
       "      <th></th>\n",
       "      <th>OverallQual</th>\n",
       "      <th>GrLivArea</th>\n",
       "      <th>GarageCars</th>\n",
       "      <th>TotalBsmtSF</th>\n",
       "      <th>FullBath</th>\n",
       "      <th>YearBuilt</th>\n",
       "    </tr>\n",
       "  </thead>\n",
       "  <tbody>\n",
       "    <tr>\n",
       "      <th>0</th>\n",
       "      <td>7</td>\n",
       "      <td>1710</td>\n",
       "      <td>2</td>\n",
       "      <td>856</td>\n",
       "      <td>2</td>\n",
       "      <td>2003</td>\n",
       "    </tr>\n",
       "    <tr>\n",
       "      <th>1</th>\n",
       "      <td>6</td>\n",
       "      <td>1262</td>\n",
       "      <td>2</td>\n",
       "      <td>1262</td>\n",
       "      <td>2</td>\n",
       "      <td>1976</td>\n",
       "    </tr>\n",
       "    <tr>\n",
       "      <th>2</th>\n",
       "      <td>7</td>\n",
       "      <td>1786</td>\n",
       "      <td>2</td>\n",
       "      <td>920</td>\n",
       "      <td>2</td>\n",
       "      <td>2001</td>\n",
       "    </tr>\n",
       "    <tr>\n",
       "      <th>3</th>\n",
       "      <td>7</td>\n",
       "      <td>1717</td>\n",
       "      <td>3</td>\n",
       "      <td>756</td>\n",
       "      <td>1</td>\n",
       "      <td>1915</td>\n",
       "    </tr>\n",
       "    <tr>\n",
       "      <th>4</th>\n",
       "      <td>8</td>\n",
       "      <td>2198</td>\n",
       "      <td>3</td>\n",
       "      <td>1145</td>\n",
       "      <td>2</td>\n",
       "      <td>2000</td>\n",
       "    </tr>\n",
       "  </tbody>\n",
       "</table>\n",
       "</div>"
      ],
      "text/plain": [
       "   OverallQual  GrLivArea  GarageCars  TotalBsmtSF  FullBath  YearBuilt\n",
       "0            7       1710           2          856         2       2003\n",
       "1            6       1262           2         1262         2       1976\n",
       "2            7       1786           2          920         2       2001\n",
       "3            7       1717           3          756         1       1915\n",
       "4            8       2198           3         1145         2       2000"
      ]
     },
     "execution_count": 9,
     "metadata": {},
     "output_type": "execute_result"
    }
   ],
   "source": [
    "cols = ['OverallQual', 'GrLivArea', 'GarageCars', 'TotalBsmtSF', 'FullBath', 'YearBuilt']\n",
    "dataset[cols].head(5)"
   ]
  },
  {
   "cell_type": "markdown",
   "metadata": {},
   "source": [
    "Below also show example of SalePrice of the first five house."
   ]
  },
  {
   "cell_type": "code",
   "execution_count": 10,
   "metadata": {
    "collapsed": false
   },
   "outputs": [
    {
     "data": {
      "text/html": [
       "<div>\n",
       "<table border=\"1\" class=\"dataframe\">\n",
       "  <thead>\n",
       "    <tr style=\"text-align: right;\">\n",
       "      <th></th>\n",
       "      <th>SalePrice</th>\n",
       "    </tr>\n",
       "  </thead>\n",
       "  <tbody>\n",
       "    <tr>\n",
       "      <th>0</th>\n",
       "      <td>208500</td>\n",
       "    </tr>\n",
       "    <tr>\n",
       "      <th>1</th>\n",
       "      <td>181500</td>\n",
       "    </tr>\n",
       "    <tr>\n",
       "      <th>2</th>\n",
       "      <td>223500</td>\n",
       "    </tr>\n",
       "    <tr>\n",
       "      <th>3</th>\n",
       "      <td>140000</td>\n",
       "    </tr>\n",
       "    <tr>\n",
       "      <th>4</th>\n",
       "      <td>250000</td>\n",
       "    </tr>\n",
       "  </tbody>\n",
       "</table>\n",
       "</div>"
      ],
      "text/plain": [
       "   SalePrice\n",
       "0     208500\n",
       "1     181500\n",
       "2     223500\n",
       "3     140000\n",
       "4     250000"
      ]
     },
     "execution_count": 10,
     "metadata": {},
     "output_type": "execute_result"
    }
   ],
   "source": [
    "target = ['SalePrice']\n",
    "dataset[target].head(5)"
   ]
  },
  {
   "cell_type": "markdown",
   "metadata": {},
   "source": [
    "<h3>Loading the Data</h3>\n",
    "We will load data into Java to calculate optimal weights best fitting the data. Here, I had seperate the file into 4 parts.\n",
    "In sequential, we will need to read file by file. In contrast, parallel version will be able to read all of them consequently. Because this step takes a lot of time, parallel version speed up is very high. "
   ]
  },
  {
   "cell_type": "markdown",
   "metadata": {},
   "source": [
    "<h3>Finding Optimal Weights</h3>"
   ]
  },
  {
   "cell_type": "markdown",
   "metadata": {},
   "source": [
    "Before finding optimal weights, let's explore how we will predict the price first. We will first construct a matrix X. Each row of the matrix will be a detail of one house, while column represent each property. We also have vector 'y', which contain each of the house price. And lets call y' the y value that our model will predict given matrix X."
   ]
  },
  {
   "cell_type": "markdown",
   "metadata": {},
   "source": [
    "$X = \\begin{vmatrix}\n",
    "7 & 1980 & 15 & 67 & 157 & 5 & 4 \\\\\n",
    "5 & 1996 & 20 & 58 & 513 & 5  & 751\\\\\n",
    "6 & 2010 & 67 & 7 & 6 & 6  & 45637\\\\\n",
    "\\end{vmatrix}$\n",
    "\n",
    "$y = \\begin{vmatrix}\n",
    "15000\\\\\n",
    "30000\\\\\n",
    "10000 \\\\\n",
    "\\end{vmatrix}$"
   ]
  },
  {
   "cell_type": "markdown",
   "metadata": {},
   "source": [
    "The formula for predicting the price value is "
   ]
  },
  {
   "cell_type": "markdown",
   "metadata": {},
   "source": [
    "$ Xθ = y' $ \n",
    "\n",
    "$\n",
    "\\begin{vmatrix}\n",
    "7 & 1980 & 15 & 67 & 157 & 5 & 4 \\\\\n",
    "5 & 1996 & 20 & 58 & 513 & 5  & 751\\\\\n",
    "6 & 2010 & 67 & 7 & 6 & 6  & 37\\\\\n",
    "\\end{vmatrix}\n",
    "$\n",
    "$\n",
    "\\begin{vmatrix}\n",
    "2\\\\\n",
    "4\\\\\n",
    "6 \\\\\n",
    "10 \\\\\n",
    "26 \\\\\n",
    "1 \\\\\n",
    "50 \\\\\n",
    "\\end{vmatrix}$\n",
    "=\n",
    "$\n",
    "\\begin{vmatrix}\n",
    "12981\\\\\n",
    "59587\\\\\n",
    "10536\\\\\n",
    "\\end{vmatrix}$\n",
    "\n",
    "= $y'$"
   ]
  },
  {
   "cell_type": "markdown",
   "metadata": {},
   "source": [
    "From the above example, the weights we have here did a pretty good job. The price we got is quite near the real price. But the second house value is quite off compare to other. From here, the difference is"
   ]
  },
  {
   "cell_type": "markdown",
   "metadata": {},
   "source": [
    "$\\begin{vmatrix}\n",
    "12981\\\\\n",
    "59587\\\\\n",
    "10536 \\\\\n",
    "\\end{vmatrix}$\n",
    "-\n",
    "$\\begin{vmatrix}\n",
    "15000\\\\\n",
    "30000\\\\\n",
    "10000 \\\\\n",
    "\\end{vmatrix}$\n",
    "=\n",
    "$\\begin{vmatrix}\n",
    "-2019\\\\\n",
    "29587\\\\\n",
    "536 \\\\\n",
    "\\end{vmatrix}$\n"
   ]
  },
  {
   "cell_type": "markdown",
   "metadata": {},
   "source": [
    "We want y' to be as close to y as possible. The ideal would be to make y'-y =0"
   ]
  },
  {
   "cell_type": "markdown",
   "metadata": {},
   "source": [
    "$y'- y = 0 $"
   ]
  },
  {
   "cell_type": "markdown",
   "metadata": {},
   "source": [
    "Now we can find the square loss function. This indicates how bad or good our model is doing. There are many method to use. In this project, I will use mean root square error(RMSE)."
   ]
  },
  {
   "cell_type": "markdown",
   "metadata": {},
   "source": [
    "<img src=\"https://cdn-images-1.medium.com/max/800/1*9hQVcasuwx5ddq_s3MFCyw.gif\"/>"
   ]
  },
  {
   "cell_type": "markdown",
   "metadata": {},
   "source": [
    "RMSE from above example is 17084.87"
   ]
  },
  {
   "cell_type": "markdown",
   "metadata": {},
   "source": [
    "<h2>Start finding optimal weights</h2>"
   ]
  },
  {
   "cell_type": "markdown",
   "metadata": {},
   "source": [
    "We can use normal equation to help finding line that minimize the error. "
   ]
  },
  {
   "cell_type": "markdown",
   "metadata": {},
   "source": [
    "Where θ is a vector contain weights for each of the property. The weights inside can be initialize to any value. The only condition is that each number are unique."
   ]
  },
  {
   "cell_type": "markdown",
   "metadata": {},
   "source": [
    "$θ=(X^TX)^-1 X^Ty$"
   ]
  },
  {
   "cell_type": "markdown",
   "metadata": {},
   "source": [
    "Where $X$ is features matrix, $X^T$ is transpose of $X$. and $y$ is real output."
   ]
  },
  {
   "cell_type": "markdown",
   "metadata": {},
   "source": [
    "But if we only use this equation, we might run into a problem called overfitting. Overfitting occurs when a model is excessively complex, such as having too many parameters relative to the number of observations. This can make our model not so accurate."
   ]
  },
  {
   "cell_type": "markdown",
   "metadata": {},
   "source": [
    "One way to avoid overfitting in Linear Regression is to make sure that each of the wieghts is not too high. So we have to come up with the equations that will have small weights and have small error. The formula that can do this is.."
   ]
  },
  {
   "cell_type": "markdown",
   "metadata": {},
   "source": [
    "$θ=(X^TX+λ⋅L)^-1 −1X^Ty$"
   ]
  },
  {
   "cell_type": "markdown",
   "metadata": {},
   "source": [
    "We introduce a new term called lambda ($λ$). I will skip the prove that term can make the model become less overfit. The value of lambda depends on the problem. \n"
   ]
  },
  {
   "cell_type": "markdown",
   "metadata": {},
   "source": [
    "<h3>Steps</h3>\n",
    "Many of these steps in the formula can be done in parallel. \n",
    "For example when transposing $X$, we can divide X into 4 parts. Then we transpose the 4 parts with 4 processors. \n",
    "\n",
    "Another operations that we can do in parallel is multiplication. Because when multiply, each of the answer cell is independent to each other. \n",
    "\n",
    "In addition, addition is also applicable to parallel processing. Similar to multiplication, each cell in addition is not dependent to each other. \n",
    "\n",
    "More detail can be find in the next part \"Implementation\"."
   ]
  },
  {
   "cell_type": "markdown",
   "metadata": {},
   "source": [
    "<h3>Implementation</h3>\n",
    "<h4>The main class for this project are :</h4>\n",
    "<h5>Sequential Version : </h5>\n",
    "<ol>\n",
    "<li>CSV_Reader.java : Read .csv files into Java Matrix.</li>\n",
    "<li>LinearRegression.java : Compute an optimal line using Normal Equation (with regularization ($λ$) )</li>\n",
    "</ol>\n",
    "\n",
    "<h5>Parallel Version : </h5>\n",
    "<ol>\n",
    "<li>P_CSV_Reader.java : Read .csv files into Java Matrix simultaneously.</li>\n",
    "<li>P_LinearRegression.java : Compute an optimal line using Normal Equation (with regularization ($λ$) ) using Threads</li>\n",
    "<li>Thread* : Thread for each task specify by the name. For example ThreadTransposer handle transposing matrix</li>\n",
    "</ol>"
   ]
  },
  {
   "cell_type": "markdown",
   "metadata": {},
   "source": [
    "<h3>These are some operation that can be done in parallel.</h3>\n",
    "Below are some example"
   ]
  },
  {
   "cell_type": "markdown",
   "metadata": {},
   "source": [
    "1) Matrix Multiplication can be done this way in parallel.\n",
    "$\n",
    "\\begin{vmatrix}\n",
    "1 & 1 & 1 & 1 & 1 & 1 & 1 \\\\\n",
    "2 & 2 & 2 & 2 & 2 & 2  & 2\\\\\n",
    "3 & 3 & 3 & 3 & 3 & 3  & 3\\\\\n",
    "4 & 4 & 4 & 4 & 4 & 4 & 4 \\\\\n",
    "1 & 1 & 1 & 1 & 1 & 1  & 1\\\\\n",
    "2 & 2 & 2 & 2 & 2 & 2  & 2\\\\\n",
    "\\end{vmatrix}\n",
    "$\n",
    "$\n",
    "\\begin{vmatrix}\n",
    "X & X & X & X & X  \\\\\n",
    "X & X & X & X & X   \\\\\n",
    "X & X & X & X & X   \\\\\n",
    "X & X & X & X & X   \\\\\n",
    "X & X & X & X & X   \\\\\n",
    "X & X & X & X & X    \\\\\n",
    "X & X & X & X & X   \\\\\n",
    "\\end{vmatrix}$\n"
   ]
  },
  {
   "cell_type": "markdown",
   "metadata": {},
   "source": [
    "The number i in Matrix represent which process is handling the multiplication . Because we don't need to write anything into the operand Matrix, we can multiply each of them at the same time. \n",
    "\n",
    "Matrix multiplication is very important because many operation in this method is done by Matrix Multiplication."
   ]
  },
  {
   "cell_type": "markdown",
   "metadata": {},
   "source": [
    "2) Transpose Martix\n",
    "$\n",
    "\\begin{vmatrix}\n",
    "11 & 12 & 13 & 14 & 15 & 16 & 17 \\\\\n",
    "21 & 22 & 23 & 24 & 25 & 26  & 27\\\\\n",
    "31 & 32 & 33 & 34 & 35 & 36  & 37\\\\\n",
    "41 & 42 & 43 & 44 & 45 & 46 & 47\\\\\n",
    "51 & 52 & 53 & 54 & 55 & 56  & 57\\\\\n",
    "61 & 62 & 63 & 64 & 65 & 66  & 67\\\\\n",
    "\\end{vmatrix}\n",
    "$\n",
    "=\n",
    "$\n",
    "\\begin{vmatrix}\n",
    "11 & 21 & 31 & 41 & 51 &61  \\\\\n",
    "12 & 22 & 32 & 42 & 52 &62  \\\\\n",
    "13 & 23& 33 & 43 & 53 &63  \\\\\n",
    "14 & 24& 34 & 44 & 54 &64  \\\\\n",
    "15 & 25& 35 & 45 & 55&65   \\\\\n",
    "16 & 26& 36 & 46 & 56 &66  \\\\\n",
    "17 & 27& 37 & 47 & 57  &67 \\\\\n",
    "\\end{vmatrix}$\n"
   ]
  },
  {
   "cell_type": "markdown",
   "metadata": {},
   "source": [
    "Trnaposing is quite easy. Just use each process to handle copying ij if i%4==r where r is number of that process. "
   ]
  },
  {
   "cell_type": "markdown",
   "metadata": {},
   "source": [
    "3) Reading csv files.\n",
    "In Java, you can't skip over to certain line. So even if you use 4 threads to read a file, the time will be the same. It might be even slower because all of the 4 threads still need to read through everything. \n",
    "\n",
    "In this project I use 4 .csv files instead. So that each of the process can read each of the files in parallel version while in Sequential, you will need to read all of the files by itself alone."
   ]
  },
  {
   "cell_type": "markdown",
   "metadata": {},
   "source": [
    "<h4>Done</h4>"
   ]
  },
  {
   "cell_type": "markdown",
   "metadata": {},
   "source": [
    "<p>After finish the calculation on the formula above, we will obtain optimal weights for our model. Next step is to evaluate the performance of that weights</p>"
   ]
  },
  {
   "cell_type": "markdown",
   "metadata": {},
   "source": [
    "<h2>Evaluation using validate set</h2>"
   ]
  },
  {
   "cell_type": "markdown",
   "metadata": {},
   "source": [
    "$ Xθ = y' $ \n",
    "\n",
    "$\n",
    "\\begin{vmatrix}\n",
    "7 & 1980 & 15 & 67 & 157 & 5 & 4 \\\\\n",
    "5 & 1996 & 20 & 58 & 513 & 5  & 751\\\\\n",
    "6 & 2010 & 67 & 7 & 6 & 6  & 37\\\\\n",
    "7 & 1980 & 15 & 67 & 157 & 5 & 4 \\\\\n",
    "5 & 1996 & 20 & 58 & 513 & 5  & 751\\\\\n",
    "6 & 2010 & 67 & 7 & 6 & 6  & 37\\\\7 & 1980 & 15 & 67 & 157 & 5 & 4 \\\\\n",
    "5 & 1996 & 20 & 58 & 513 & 5  & 751\\\\\n",
    "6 & 2010 & 67 & 7 & 6 & 6  & 37\\\\\n",
    "\\end{vmatrix}\n",
    "$\n",
    "$\n",
    "\\begin{vmatrix}\n",
    "5\\\\\n",
    "1\\\\\n",
    "2 \\\\\n",
    "15 \\\\\n",
    "7 \\\\\n",
    "1.6 \\\\\n",
    "5 \\\\\n",
    "\\end{vmatrix}$\n",
    "=\n",
    "$\n",
    "\\begin{vmatrix}\n",
    "12981\\\\\n",
    "59587\\\\\n",
    "10536\\\\\n",
    "12981\\\\\n",
    "59587\\\\\n",
    "10536\\\\\n",
    "12981\\\\\n",
    "59587\\\\\n",
    "10536\\\\\n",
    "\\end{vmatrix}$"
   ]
  },
  {
   "cell_type": "markdown",
   "metadata": {},
   "source": [
    "Similar to above, we will substituate X, θ, and y to find Root mean square error. When predicting, we can also use parallel processing to compute the answer. For example, we can seperate X into 4 parts, and then multiply each part to $θ$. If the error is high, then you might want to change some parameters.\n",
    "\n",
    "That's all for fitting a best fit line into a data."
   ]
  },
  {
   "cell_type": "markdown",
   "metadata": {},
   "source": [
    "<h2>Results</h2>"
   ]
  },
  {
   "cell_type": "markdown",
   "metadata": {},
   "source": [
    "For the result, I will run each of the algorithm (sequential and parallel) 10 times, then also average them.\n",
    "The version I will demonstrate will be:\n",
    "<ol>\n",
    "<li>Sequential Version</li>\n",
    "<li>Parallel Version (1 thread)</li>\n",
    "<li>Parallel Version (2 thread)</li>\n",
    "<li>Parallel Version (4 thread)</li>\n",
    "</ol>\n",
    "Hopefully, the time need will be decrease if we use more thread. "
   ]
  },
  {
   "cell_type": "markdown",
   "metadata": {},
   "source": [
    "The result can be shown below (with 800,000 number of rows) : "
   ]
  },
  {
   "cell_type": "markdown",
   "metadata": {},
   "source": [
    "<img src=\"http://i.imgur.com/yPygrwJ.jpg\"  width=\"1000\" />"
   ]
  },
  {
   "cell_type": "markdown",
   "metadata": {},
   "source": [
    "As you can see the Sequential version and the parallel version with 1 threads time is similar. \n",
    "And as the threads increase, the time used is decreased."
   ]
  },
  {
   "cell_type": "code",
   "execution_count": 19,
   "metadata": {
    "collapsed": false
   },
   "outputs": [
    {
     "data": {
      "image/png": "[encoded data removed]",
      "text/plain": [
       "<matplotlib.figure.Figure at 0x1f75144f240>"
      ]
     },
     "metadata": {},
     "output_type": "display_data"
    }
   ],
   "source": [
    "import numpy as np\n",
    "import matplotlib.pyplot as plt\n",
    " \n",
    "# data to plot\n",
    "n_groups = 3\n",
    "readTime = (901.3,559.3,376.1)\n",
    "trainTime = (696.7,468.9,400.0)\n",
    "totalTime = (1598.0,1028.4,780.3)\n",
    " \n",
    "# create plot\n",
    "fig, ax = plt.subplots()\n",
    "index = np.arange(n_groups)\n",
    "bar_width = 0.25\n",
    "opacity = 0.8\n",
    " \n",
    "rects1 = plt.bar(index, readTime, bar_width,\n",
    "                 alpha=opacity,\n",
    "                 \n",
    "                 label='Reading Time')\n",
    " \n",
    "rects2 = plt.bar(index + bar_width, trainTime, bar_width,\n",
    "                 alpha=opacity,\n",
    "                 \n",
    "                 label='Training Time')\n",
    "\n",
    "rects3 = plt.bar(index + 2*bar_width, totalTime, bar_width,\n",
    "                 alpha=opacity,\n",
    "                 \n",
    "                 label='Total Time')\n",
    " \n",
    "plt.xlabel('Versions')\n",
    "plt.ylabel('Time used')\n",
    "plt.title('Linear Regression Result')\n",
    "plt.xticks(index + bar_width, ('Sequential', 'Parallel (2)', 'Parallel (4)'))\n",
    "plt.legend()\n",
    "plt.tight_layout()\n",
    "plt.show()\n",
    "\n"
   ]
  },
  {
   "cell_type": "markdown",
   "metadata": {},
   "source": [
    "<h2>Result</h2>"
   ]
  },
  {
   "cell_type": "markdown",
   "metadata": {},
   "source": [
    "As you can see, the time for reading, training, and total time has been reduced because we introduced parallel processing to machine learning model. With more data, the time we can save might be even more. \n",
    "\n",
    "For the predicted answer, the result error is quite near to each other, which is about 190,000. \n",
    "\n",
    "Comparing to the result we can obtain from program called 'RapidMiner'. For ten thousand rows of data, the root mean square error is 736489.\n",
    "\n",
    "Not only in Linear Regression, parallel processing can also be used in many other machine learning model. It can even be used in deep learning. "
   ]
  },
  {
   "cell_type": "markdown",
   "metadata": {},
   "source": [
    "<h2>Conclusion</h2>\n",
    "<p>In this experiment, we have successfully implement Linear Regression with some parallel processing technique. The result is as shown in the graph above. The time it takes for each version is gradually decrease. If we have larger dataset, the time we saved using parallel might even be larger.</p>\n",
    "\n",
    "<p>This prove to us that parallel computing can be applied in many field, inclusing machine learning. It can improved computation speed and thus reduced time need to compute something. </p>"
   ]
  }
 ],
 "metadata": {
  "kernelspec": {
   "display_name": "Python [conda root]",
   "language": "python",
   "name": "conda-root-py"
  },
  "language_info": {
   "codemirror_mode": {
    "name": "ipython",
    "version": 3
   },
   "file_extension": ".py",
   "mimetype": "text/x-python",
   "name": "python",
   "nbconvert_exporter": "python",
   "pygments_lexer": "ipython3",
   "version": "3.5.3"
  }
 },
 "nbformat": 4,
 "nbformat_minor": 2
}
